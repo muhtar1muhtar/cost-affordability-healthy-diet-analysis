{
  "cells": [
    {
      "cell_type": "markdown",
      "metadata": {
        "id": "0aStgWSO0E0E"
      },
      "source": [
        "# **(ADD THE NOTEBOOK NAME HERE)**"
      ]
    },
    {
      "cell_type": "markdown",
      "metadata": {
        "id": "1eLEkw5O0ECa"
      },
      "source": [
        "## Objectives\n",
        "\n",
        "* Write your notebook objective here, for example, \"Fetch data from Kaggle and save as raw data\", or \"engineer features for modelling\"\n",
        "\n",
        "## Inputs\n",
        "\n",
        "* Write down which data or information you need to run the notebook \n",
        "\n",
        "## Outputs\n",
        "\n",
        "* Write here which files, code or artefacts you generate by the end of the notebook \n",
        "\n",
        "## Additional Comments\n",
        "\n",
        "* If you have any additional comments that don't fit in the previous bullets, please state them here. \n",
        "\n"
      ]
    },
    {
      "cell_type": "markdown",
      "metadata": {
        "id": "9uWZXH9LwoQg"
      },
      "source": [
        "---"
      ]
    },
    {
      "cell_type": "markdown",
      "metadata": {
        "id": "cqP-UeN-z3i2"
      },
      "source": [
        "# Change working directory"
      ]
    },
    {
      "cell_type": "markdown",
      "metadata": {},
      "source": [
        "* We are assuming you will store the notebooks in a subfolder, therefore when running the notebook in the editor, you will need to change the working directory"
      ]
    },
    {
      "cell_type": "markdown",
      "metadata": {
        "id": "aOGIGS-uz3i2"
      },
      "source": [
        "We need to change the working directory from its current folder to its parent folder\n",
        "* We access the current directory with os.getcwd()"
      ]
    },
    {
      "cell_type": "code",
      "execution_count": 2,
      "metadata": {
        "id": "wZfF_j-Bz3i4",
        "outputId": "66943449-1436-4c3d-85c7-b85f9f78349b"
      },
      "outputs": [
        {
          "data": {
            "text/plain": [
              "'/Users/muhtarmuhtar/Documents/vscode-projects/cost-affordability-healthy-diet-analysis/jupyter_notebooks'"
            ]
          },
          "execution_count": 2,
          "metadata": {},
          "output_type": "execute_result"
        }
      ],
      "source": [
        "import os\n",
        "current_dir = os.getcwd()\n",
        "current_dir"
      ]
    },
    {
      "cell_type": "markdown",
      "metadata": {
        "id": "9MWW8E7lz3i7"
      },
      "source": [
        "We want to make the parent of the current directory the new current directory\n",
        "* os.path.dirname() gets the parent directory\n",
        "* os.chir() defines the new current directory"
      ]
    },
    {
      "cell_type": "code",
      "execution_count": 3,
      "metadata": {
        "id": "TwHsQRWjz3i9",
        "outputId": "86849db3-cd2f-4cc5-ebb8-2d0caafa1a2c"
      },
      "outputs": [
        {
          "name": "stdout",
          "output_type": "stream",
          "text": [
            "You set a new current directory\n"
          ]
        }
      ],
      "source": [
        "os.chdir(os.path.dirname(current_dir))\n",
        "print(\"You set a new current directory\")"
      ]
    },
    {
      "cell_type": "markdown",
      "metadata": {
        "id": "M_xPk_Ijz3i-"
      },
      "source": [
        "Confirm the new current directory"
      ]
    },
    {
      "cell_type": "code",
      "execution_count": 4,
      "metadata": {
        "id": "vz3S-_kjz3jA",
        "outputId": "00b79ae4-75d0-4a96-d193-ac9ef9847ea2"
      },
      "outputs": [
        {
          "data": {
            "text/plain": [
              "'/Users/muhtarmuhtar/Documents/vscode-projects/cost-affordability-healthy-diet-analysis'"
            ]
          },
          "execution_count": 4,
          "metadata": {},
          "output_type": "execute_result"
        }
      ],
      "source": [
        "current_dir = os.getcwd()\n",
        "current_dir"
      ]
    },
    {
      "cell_type": "markdown",
      "metadata": {
        "id": "-mavJ8DibrcQ"
      },
      "source": [
        "# Section 1"
      ]
    },
    {
      "cell_type": "markdown",
      "metadata": {},
      "source": [
        "Section 1 content"
      ]
    },
    {
      "cell_type": "code",
      "execution_count": 22,
      "metadata": {},
      "outputs": [],
      "source": [
        "import numpy as np\n",
        "import pandas as pd\n"
      ]
    },
    {
      "cell_type": "code",
      "execution_count": 23,
      "metadata": {},
      "outputs": [
        {
          "data": {
            "text/html": [
              "<div>\n",
              "<style scoped>\n",
              "    .dataframe tbody tr th:only-of-type {\n",
              "        vertical-align: middle;\n",
              "    }\n",
              "\n",
              "    .dataframe tbody tr th {\n",
              "        vertical-align: top;\n",
              "    }\n",
              "\n",
              "    .dataframe thead th {\n",
              "        text-align: right;\n",
              "    }\n",
              "</style>\n",
              "<table border=\"1\" class=\"dataframe\">\n",
              "  <thead>\n",
              "    <tr style=\"text-align: right;\">\n",
              "      <th></th>\n",
              "      <th>Area Code</th>\n",
              "      <th>Area Code (M49)</th>\n",
              "      <th>Area</th>\n",
              "      <th>Item Code</th>\n",
              "      <th>Item</th>\n",
              "      <th>Element Code</th>\n",
              "      <th>Element</th>\n",
              "      <th>Release Code</th>\n",
              "      <th>Release</th>\n",
              "      <th>Unit</th>\n",
              "      <th>...</th>\n",
              "      <th>Y2020</th>\n",
              "      <th>Y2020F</th>\n",
              "      <th>Y2021</th>\n",
              "      <th>Y2021F</th>\n",
              "      <th>Y2022</th>\n",
              "      <th>Y2022F</th>\n",
              "      <th>Y2023</th>\n",
              "      <th>Y2023F</th>\n",
              "      <th>Y2024</th>\n",
              "      <th>Y2024F</th>\n",
              "    </tr>\n",
              "  </thead>\n",
              "  <tbody>\n",
              "    <tr>\n",
              "      <th>0</th>\n",
              "      <td>5000</td>\n",
              "      <td>'001</td>\n",
              "      <td>World</td>\n",
              "      <td>70040</td>\n",
              "      <td>Cost of a healthy diet (CoHD), PPP dollar per ...</td>\n",
              "      <td>6226</td>\n",
              "      <td>Value</td>\n",
              "      <td>7S2025</td>\n",
              "      <td>July 2025 (SOFI report)</td>\n",
              "      <td>Int$ (PPP) per person per day</td>\n",
              "      <td>...</td>\n",
              "      <td>3.43</td>\n",
              "      <td>E</td>\n",
              "      <td>3.60</td>\n",
              "      <td>E</td>\n",
              "      <td>4.01</td>\n",
              "      <td>E</td>\n",
              "      <td>4.3</td>\n",
              "      <td>E</td>\n",
              "      <td>4.46</td>\n",
              "      <td>E</td>\n",
              "    </tr>\n",
              "    <tr>\n",
              "      <th>1</th>\n",
              "      <td>5000</td>\n",
              "      <td>'001</td>\n",
              "      <td>World</td>\n",
              "      <td>70070</td>\n",
              "      <td>Cost of starchy staples, PPP dollar per person...</td>\n",
              "      <td>6226</td>\n",
              "      <td>Value</td>\n",
              "      <td>7S2025</td>\n",
              "      <td>July 2025 (SOFI report)</td>\n",
              "      <td>Int$ (PPP) per person per day</td>\n",
              "      <td>...</td>\n",
              "      <td>NaN</td>\n",
              "      <td>NaN</td>\n",
              "      <td>0.58</td>\n",
              "      <td>E</td>\n",
              "      <td>NaN</td>\n",
              "      <td>NaN</td>\n",
              "      <td>NaN</td>\n",
              "      <td>NaN</td>\n",
              "      <td>NaN</td>\n",
              "      <td>NaN</td>\n",
              "    </tr>\n",
              "    <tr>\n",
              "      <th>2</th>\n",
              "      <td>5000</td>\n",
              "      <td>'001</td>\n",
              "      <td>World</td>\n",
              "      <td>70080</td>\n",
              "      <td>Cost of animal source foods, PPP dollar per pe...</td>\n",
              "      <td>6226</td>\n",
              "      <td>Value</td>\n",
              "      <td>7S2025</td>\n",
              "      <td>July 2025 (SOFI report)</td>\n",
              "      <td>Int$ (PPP) per person per day</td>\n",
              "      <td>...</td>\n",
              "      <td>NaN</td>\n",
              "      <td>NaN</td>\n",
              "      <td>1.00</td>\n",
              "      <td>E</td>\n",
              "      <td>NaN</td>\n",
              "      <td>NaN</td>\n",
              "      <td>NaN</td>\n",
              "      <td>NaN</td>\n",
              "      <td>NaN</td>\n",
              "      <td>NaN</td>\n",
              "    </tr>\n",
              "    <tr>\n",
              "      <th>3</th>\n",
              "      <td>5000</td>\n",
              "      <td>'001</td>\n",
              "      <td>World</td>\n",
              "      <td>70090</td>\n",
              "      <td>Cost of legumes, nuts and seeds, PPP dollar pe...</td>\n",
              "      <td>6226</td>\n",
              "      <td>Value</td>\n",
              "      <td>7S2025</td>\n",
              "      <td>July 2025 (SOFI report)</td>\n",
              "      <td>Int$ (PPP) per person per day</td>\n",
              "      <td>...</td>\n",
              "      <td>NaN</td>\n",
              "      <td>NaN</td>\n",
              "      <td>0.39</td>\n",
              "      <td>E</td>\n",
              "      <td>NaN</td>\n",
              "      <td>NaN</td>\n",
              "      <td>NaN</td>\n",
              "      <td>NaN</td>\n",
              "      <td>NaN</td>\n",
              "      <td>NaN</td>\n",
              "    </tr>\n",
              "    <tr>\n",
              "      <th>4</th>\n",
              "      <td>5000</td>\n",
              "      <td>'001</td>\n",
              "      <td>World</td>\n",
              "      <td>70100</td>\n",
              "      <td>Cost of vegetables, PPP dollar per person per day</td>\n",
              "      <td>6226</td>\n",
              "      <td>Value</td>\n",
              "      <td>7S2025</td>\n",
              "      <td>July 2025 (SOFI report)</td>\n",
              "      <td>Int$ (PPP) per person per day</td>\n",
              "      <td>...</td>\n",
              "      <td>NaN</td>\n",
              "      <td>NaN</td>\n",
              "      <td>0.76</td>\n",
              "      <td>E</td>\n",
              "      <td>NaN</td>\n",
              "      <td>NaN</td>\n",
              "      <td>NaN</td>\n",
              "      <td>NaN</td>\n",
              "      <td>NaN</td>\n",
              "      <td>NaN</td>\n",
              "    </tr>\n",
              "  </tbody>\n",
              "</table>\n",
              "<p>5 rows × 26 columns</p>\n",
              "</div>"
            ],
            "text/plain": [
              "   Area Code Area Code (M49)   Area  Item Code  \\\n",
              "0       5000            '001  World      70040   \n",
              "1       5000            '001  World      70070   \n",
              "2       5000            '001  World      70080   \n",
              "3       5000            '001  World      70090   \n",
              "4       5000            '001  World      70100   \n",
              "\n",
              "                                                Item  Element Code Element  \\\n",
              "0  Cost of a healthy diet (CoHD), PPP dollar per ...          6226   Value   \n",
              "1  Cost of starchy staples, PPP dollar per person...          6226   Value   \n",
              "2  Cost of animal source foods, PPP dollar per pe...          6226   Value   \n",
              "3  Cost of legumes, nuts and seeds, PPP dollar pe...          6226   Value   \n",
              "4  Cost of vegetables, PPP dollar per person per day          6226   Value   \n",
              "\n",
              "  Release Code                  Release                           Unit  ...  \\\n",
              "0       7S2025  July 2025 (SOFI report)  Int$ (PPP) per person per day  ...   \n",
              "1       7S2025  July 2025 (SOFI report)  Int$ (PPP) per person per day  ...   \n",
              "2       7S2025  July 2025 (SOFI report)  Int$ (PPP) per person per day  ...   \n",
              "3       7S2025  July 2025 (SOFI report)  Int$ (PPP) per person per day  ...   \n",
              "4       7S2025  July 2025 (SOFI report)  Int$ (PPP) per person per day  ...   \n",
              "\n",
              "   Y2020 Y2020F  Y2021 Y2021F  Y2022 Y2022F  Y2023 Y2023F  Y2024 Y2024F  \n",
              "0   3.43      E   3.60      E   4.01      E    4.3      E   4.46      E  \n",
              "1    NaN    NaN   0.58      E    NaN    NaN    NaN    NaN    NaN    NaN  \n",
              "2    NaN    NaN   1.00      E    NaN    NaN    NaN    NaN    NaN    NaN  \n",
              "3    NaN    NaN   0.39      E    NaN    NaN    NaN    NaN    NaN    NaN  \n",
              "4    NaN    NaN   0.76      E    NaN    NaN    NaN    NaN    NaN    NaN  \n",
              "\n",
              "[5 rows x 26 columns]"
            ]
          },
          "execution_count": 23,
          "metadata": {},
          "output_type": "execute_result"
        }
      ],
      "source": [
        "# import the raw CoAHD.csv file using the pandas library\n",
        "df = pd.read_csv('dataset/raw/CoAHD.csv')\n",
        "df.head()\n"
      ]
    },
    {
      "cell_type": "code",
      "execution_count": 24,
      "metadata": {},
      "outputs": [
        {
          "name": "stdout",
          "output_type": "stream",
          "text": [
            "<class 'pandas.core.frame.DataFrame'>\n",
            "RangeIndex: 373 entries, 0 to 372\n",
            "Data columns (total 26 columns):\n",
            " #   Column           Non-Null Count  Dtype  \n",
            "---  ------           --------------  -----  \n",
            " 0   Area Code        373 non-null    int64  \n",
            " 1   Area Code (M49)  373 non-null    object \n",
            " 2   Area             373 non-null    object \n",
            " 3   Item Code        373 non-null    int64  \n",
            " 4   Item             373 non-null    object \n",
            " 5   Element Code     373 non-null    int64  \n",
            " 6   Element          373 non-null    object \n",
            " 7   Release Code     373 non-null    object \n",
            " 8   Release          373 non-null    object \n",
            " 9   Unit             373 non-null    object \n",
            " 10  Y2017            175 non-null    float64\n",
            " 11  Y2017F           175 non-null    object \n",
            " 12  Y2018            175 non-null    float64\n",
            " 13  Y2018F           175 non-null    object \n",
            " 14  Y2019            175 non-null    float64\n",
            " 15  Y2019F           175 non-null    object \n",
            " 16  Y2020            175 non-null    float64\n",
            " 17  Y2020F           175 non-null    object \n",
            " 18  Y2021            373 non-null    float64\n",
            " 19  Y2021F           373 non-null    object \n",
            " 20  Y2022            175 non-null    float64\n",
            " 21  Y2022F           175 non-null    object \n",
            " 22  Y2023            99 non-null     float64\n",
            " 23  Y2023F           99 non-null     object \n",
            " 24  Y2024            99 non-null     float64\n",
            " 25  Y2024F           99 non-null     object \n",
            "dtypes: float64(8), int64(3), object(15)\n",
            "memory usage: 75.9+ KB\n",
            "None\n"
          ]
        }
      ],
      "source": [
        "print(df.info()) # Get a concise summary of the DataFrame"
      ]
    },
    {
      "cell_type": "code",
      "execution_count": 25,
      "metadata": {},
      "outputs": [
        {
          "data": {
            "text/plain": [
              "Area Code            0\n",
              "Area Code (M49)      0\n",
              "Area                 0\n",
              "Item Code            0\n",
              "Item                 0\n",
              "Element Code         0\n",
              "Element              0\n",
              "Release Code         0\n",
              "Release              0\n",
              "Unit                 0\n",
              "Y2017              198\n",
              "Y2017F             198\n",
              "Y2018              198\n",
              "Y2018F             198\n",
              "Y2019              198\n",
              "Y2019F             198\n",
              "Y2020              198\n",
              "Y2020F             198\n",
              "Y2021                0\n",
              "Y2021F               0\n",
              "Y2022              198\n",
              "Y2022F             198\n",
              "Y2023              274\n",
              "Y2023F             274\n",
              "Y2024              274\n",
              "Y2024F             274\n",
              "dtype: int64"
            ]
          },
          "execution_count": 25,
          "metadata": {},
          "output_type": "execute_result"
        }
      ],
      "source": [
        "df.isnull().sum() # Check for missing values in each column"
      ]
    },
    {
      "cell_type": "code",
      "execution_count": 26,
      "metadata": {},
      "outputs": [
        {
          "data": {
            "text/plain": [
              "(373, 26)"
            ]
          },
          "execution_count": 26,
          "metadata": {},
          "output_type": "execute_result"
        }
      ],
      "source": [
        "df.shape # Get the number of rows and columns in the DataFrame"
      ]
    },
    {
      "cell_type": "markdown",
      "metadata": {
        "id": "ZY3l0-AxO93d"
      },
      "source": [
        "---"
      ]
    },
    {
      "cell_type": "markdown",
      "metadata": {
        "id": "uFQo3ycuO-v6"
      },
      "source": [
        "# Section 2"
      ]
    },
    {
      "cell_type": "markdown",
      "metadata": {},
      "source": [
        "Section 2 content"
      ]
    },
    {
      "cell_type": "code",
      "execution_count": 27,
      "metadata": {},
      "outputs": [
        {
          "data": {
            "text/html": [
              "<div>\n",
              "<style scoped>\n",
              "    .dataframe tbody tr th:only-of-type {\n",
              "        vertical-align: middle;\n",
              "    }\n",
              "\n",
              "    .dataframe tbody tr th {\n",
              "        vertical-align: top;\n",
              "    }\n",
              "\n",
              "    .dataframe thead th {\n",
              "        text-align: right;\n",
              "    }\n",
              "</style>\n",
              "<table border=\"1\" class=\"dataframe\">\n",
              "  <thead>\n",
              "    <tr style=\"text-align: right;\">\n",
              "      <th></th>\n",
              "      <th>Area Code (M49)</th>\n",
              "      <th>Area</th>\n",
              "      <th>Item</th>\n",
              "      <th>Element</th>\n",
              "      <th>Unit</th>\n",
              "      <th>Y2017</th>\n",
              "      <th>Y2018</th>\n",
              "      <th>Y2019</th>\n",
              "      <th>Y2020</th>\n",
              "      <th>Y2021</th>\n",
              "      <th>Y2022</th>\n",
              "      <th>Y2023</th>\n",
              "      <th>Y2024</th>\n",
              "    </tr>\n",
              "  </thead>\n",
              "  <tbody>\n",
              "    <tr>\n",
              "      <th>0</th>\n",
              "      <td>'001</td>\n",
              "      <td>World</td>\n",
              "      <td>Cost of a healthy diet (CoHD), PPP dollar per ...</td>\n",
              "      <td>Value</td>\n",
              "      <td>Int$ (PPP) per person per day</td>\n",
              "      <td>3.14</td>\n",
              "      <td>3.19</td>\n",
              "      <td>3.3</td>\n",
              "      <td>3.43</td>\n",
              "      <td>3.60</td>\n",
              "      <td>4.01</td>\n",
              "      <td>4.3</td>\n",
              "      <td>4.46</td>\n",
              "    </tr>\n",
              "    <tr>\n",
              "      <th>1</th>\n",
              "      <td>'001</td>\n",
              "      <td>World</td>\n",
              "      <td>Cost of starchy staples, PPP dollar per person...</td>\n",
              "      <td>Value</td>\n",
              "      <td>Int$ (PPP) per person per day</td>\n",
              "      <td>NaN</td>\n",
              "      <td>NaN</td>\n",
              "      <td>NaN</td>\n",
              "      <td>NaN</td>\n",
              "      <td>0.58</td>\n",
              "      <td>NaN</td>\n",
              "      <td>NaN</td>\n",
              "      <td>NaN</td>\n",
              "    </tr>\n",
              "    <tr>\n",
              "      <th>2</th>\n",
              "      <td>'001</td>\n",
              "      <td>World</td>\n",
              "      <td>Cost of animal source foods, PPP dollar per pe...</td>\n",
              "      <td>Value</td>\n",
              "      <td>Int$ (PPP) per person per day</td>\n",
              "      <td>NaN</td>\n",
              "      <td>NaN</td>\n",
              "      <td>NaN</td>\n",
              "      <td>NaN</td>\n",
              "      <td>1.00</td>\n",
              "      <td>NaN</td>\n",
              "      <td>NaN</td>\n",
              "      <td>NaN</td>\n",
              "    </tr>\n",
              "  </tbody>\n",
              "</table>\n",
              "</div>"
            ],
            "text/plain": [
              "  Area Code (M49)   Area                                               Item  \\\n",
              "0            '001  World  Cost of a healthy diet (CoHD), PPP dollar per ...   \n",
              "1            '001  World  Cost of starchy staples, PPP dollar per person...   \n",
              "2            '001  World  Cost of animal source foods, PPP dollar per pe...   \n",
              "\n",
              "  Element                           Unit  Y2017  Y2018  Y2019  Y2020  Y2021  \\\n",
              "0   Value  Int$ (PPP) per person per day   3.14   3.19    3.3   3.43   3.60   \n",
              "1   Value  Int$ (PPP) per person per day    NaN    NaN    NaN    NaN   0.58   \n",
              "2   Value  Int$ (PPP) per person per day    NaN    NaN    NaN    NaN   1.00   \n",
              "\n",
              "   Y2022  Y2023  Y2024  \n",
              "0   4.01    4.3   4.46  \n",
              "1    NaN    NaN    NaN  \n",
              "2    NaN    NaN    NaN  "
            ]
          },
          "execution_count": 27,
          "metadata": {},
          "output_type": "execute_result"
        }
      ],
      "source": [
        "# Drop unnecessary columns\n",
        "df = df.drop(columns=['Area Code', 'Item Code', 'Element Code', 'Release Code', 'Release',\n",
        "                      'Y2017F', 'Y2018F', 'Y2019F', 'Y2020F', 'Y2021F', 'Y2022F', 'Y2023F', \n",
        "                      'Y2024F'])\n",
        "df.head(3)"
      ]
    },
    {
      "cell_type": "code",
      "execution_count": 28,
      "metadata": {},
      "outputs": [
        {
          "data": {
            "text/html": [
              "<div>\n",
              "<style scoped>\n",
              "    .dataframe tbody tr th:only-of-type {\n",
              "        vertical-align: middle;\n",
              "    }\n",
              "\n",
              "    .dataframe tbody tr th {\n",
              "        vertical-align: top;\n",
              "    }\n",
              "\n",
              "    .dataframe thead th {\n",
              "        text-align: right;\n",
              "    }\n",
              "</style>\n",
              "<table border=\"1\" class=\"dataframe\">\n",
              "  <thead>\n",
              "    <tr style=\"text-align: right;\">\n",
              "      <th></th>\n",
              "      <th>Area Code (M49)</th>\n",
              "      <th>Area</th>\n",
              "      <th>Item</th>\n",
              "      <th>Element</th>\n",
              "      <th>Unit</th>\n",
              "      <th>Y2017</th>\n",
              "      <th>Y2018</th>\n",
              "      <th>Y2019</th>\n",
              "      <th>Y2020</th>\n",
              "      <th>Y2021</th>\n",
              "      <th>Y2022</th>\n",
              "      <th>Y2023</th>\n",
              "      <th>Y2024</th>\n",
              "    </tr>\n",
              "  </thead>\n",
              "  <tbody>\n",
              "    <tr>\n",
              "      <th>0</th>\n",
              "      <td>001</td>\n",
              "      <td>World</td>\n",
              "      <td>Cost of a healthy diet (CoHD), PPP dollar per ...</td>\n",
              "      <td>Value</td>\n",
              "      <td>Int$ (PPP) per person per day</td>\n",
              "      <td>3.14</td>\n",
              "      <td>3.19</td>\n",
              "      <td>3.3</td>\n",
              "      <td>3.43</td>\n",
              "      <td>3.60</td>\n",
              "      <td>4.01</td>\n",
              "      <td>4.3</td>\n",
              "      <td>4.46</td>\n",
              "    </tr>\n",
              "    <tr>\n",
              "      <th>1</th>\n",
              "      <td>001</td>\n",
              "      <td>World</td>\n",
              "      <td>Cost of starchy staples, PPP dollar per person...</td>\n",
              "      <td>Value</td>\n",
              "      <td>Int$ (PPP) per person per day</td>\n",
              "      <td>NaN</td>\n",
              "      <td>NaN</td>\n",
              "      <td>NaN</td>\n",
              "      <td>NaN</td>\n",
              "      <td>0.58</td>\n",
              "      <td>NaN</td>\n",
              "      <td>NaN</td>\n",
              "      <td>NaN</td>\n",
              "    </tr>\n",
              "    <tr>\n",
              "      <th>2</th>\n",
              "      <td>001</td>\n",
              "      <td>World</td>\n",
              "      <td>Cost of animal source foods, PPP dollar per pe...</td>\n",
              "      <td>Value</td>\n",
              "      <td>Int$ (PPP) per person per day</td>\n",
              "      <td>NaN</td>\n",
              "      <td>NaN</td>\n",
              "      <td>NaN</td>\n",
              "      <td>NaN</td>\n",
              "      <td>1.00</td>\n",
              "      <td>NaN</td>\n",
              "      <td>NaN</td>\n",
              "      <td>NaN</td>\n",
              "    </tr>\n",
              "  </tbody>\n",
              "</table>\n",
              "</div>"
            ],
            "text/plain": [
              "  Area Code (M49)   Area                                               Item  \\\n",
              "0             001  World  Cost of a healthy diet (CoHD), PPP dollar per ...   \n",
              "1             001  World  Cost of starchy staples, PPP dollar per person...   \n",
              "2             001  World  Cost of animal source foods, PPP dollar per pe...   \n",
              "\n",
              "  Element                           Unit  Y2017  Y2018  Y2019  Y2020  Y2021  \\\n",
              "0   Value  Int$ (PPP) per person per day   3.14   3.19    3.3   3.43   3.60   \n",
              "1   Value  Int$ (PPP) per person per day    NaN    NaN    NaN    NaN   0.58   \n",
              "2   Value  Int$ (PPP) per person per day    NaN    NaN    NaN    NaN   1.00   \n",
              "\n",
              "   Y2022  Y2023  Y2024  \n",
              "0   4.01    4.3   4.46  \n",
              "1    NaN    NaN    NaN  \n",
              "2    NaN    NaN    NaN  "
            ]
          },
          "execution_count": 28,
          "metadata": {},
          "output_type": "execute_result"
        }
      ],
      "source": [
        "# Remove single quotes from the 'Area Code (M49)' column\n",
        "df[\"Area Code (M49)\"] = df[\"Area Code (M49)\"].str.replace(\"'\", \"\", regex=False) \n",
        "df.head(3) "
      ]
    },
    {
      "cell_type": "code",
      "execution_count": 29,
      "metadata": {},
      "outputs": [
        {
          "data": {
            "text/html": [
              "<div>\n",
              "<style scoped>\n",
              "    .dataframe tbody tr th:only-of-type {\n",
              "        vertical-align: middle;\n",
              "    }\n",
              "\n",
              "    .dataframe tbody tr th {\n",
              "        vertical-align: top;\n",
              "    }\n",
              "\n",
              "    .dataframe thead th {\n",
              "        text-align: right;\n",
              "    }\n",
              "</style>\n",
              "<table border=\"1\" class=\"dataframe\">\n",
              "  <thead>\n",
              "    <tr style=\"text-align: right;\">\n",
              "      <th></th>\n",
              "      <th>region_code</th>\n",
              "      <th>region</th>\n",
              "      <th>item</th>\n",
              "      <th>element</th>\n",
              "      <th>unit</th>\n",
              "      <th>Y2017</th>\n",
              "      <th>Y2018</th>\n",
              "      <th>Y2019</th>\n",
              "      <th>Y2020</th>\n",
              "      <th>Y2021</th>\n",
              "      <th>Y2022</th>\n",
              "      <th>Y2023</th>\n",
              "      <th>Y2024</th>\n",
              "    </tr>\n",
              "  </thead>\n",
              "  <tbody>\n",
              "    <tr>\n",
              "      <th>0</th>\n",
              "      <td>001</td>\n",
              "      <td>World</td>\n",
              "      <td>Cost of a healthy diet (CoHD), PPP dollar per ...</td>\n",
              "      <td>Value</td>\n",
              "      <td>Int$ (PPP) per person per day</td>\n",
              "      <td>3.14</td>\n",
              "      <td>3.19</td>\n",
              "      <td>3.3</td>\n",
              "      <td>3.43</td>\n",
              "      <td>3.60</td>\n",
              "      <td>4.01</td>\n",
              "      <td>4.3</td>\n",
              "      <td>4.46</td>\n",
              "    </tr>\n",
              "    <tr>\n",
              "      <th>1</th>\n",
              "      <td>001</td>\n",
              "      <td>World</td>\n",
              "      <td>Cost of starchy staples, PPP dollar per person...</td>\n",
              "      <td>Value</td>\n",
              "      <td>Int$ (PPP) per person per day</td>\n",
              "      <td>NaN</td>\n",
              "      <td>NaN</td>\n",
              "      <td>NaN</td>\n",
              "      <td>NaN</td>\n",
              "      <td>0.58</td>\n",
              "      <td>NaN</td>\n",
              "      <td>NaN</td>\n",
              "      <td>NaN</td>\n",
              "    </tr>\n",
              "    <tr>\n",
              "      <th>2</th>\n",
              "      <td>001</td>\n",
              "      <td>World</td>\n",
              "      <td>Cost of animal source foods, PPP dollar per pe...</td>\n",
              "      <td>Value</td>\n",
              "      <td>Int$ (PPP) per person per day</td>\n",
              "      <td>NaN</td>\n",
              "      <td>NaN</td>\n",
              "      <td>NaN</td>\n",
              "      <td>NaN</td>\n",
              "      <td>1.00</td>\n",
              "      <td>NaN</td>\n",
              "      <td>NaN</td>\n",
              "      <td>NaN</td>\n",
              "    </tr>\n",
              "  </tbody>\n",
              "</table>\n",
              "</div>"
            ],
            "text/plain": [
              "  region_code region                                               item  \\\n",
              "0         001  World  Cost of a healthy diet (CoHD), PPP dollar per ...   \n",
              "1         001  World  Cost of starchy staples, PPP dollar per person...   \n",
              "2         001  World  Cost of animal source foods, PPP dollar per pe...   \n",
              "\n",
              "  element                           unit  Y2017  Y2018  Y2019  Y2020  Y2021  \\\n",
              "0   Value  Int$ (PPP) per person per day   3.14   3.19    3.3   3.43   3.60   \n",
              "1   Value  Int$ (PPP) per person per day    NaN    NaN    NaN    NaN   0.58   \n",
              "2   Value  Int$ (PPP) per person per day    NaN    NaN    NaN    NaN   1.00   \n",
              "\n",
              "   Y2022  Y2023  Y2024  \n",
              "0   4.01    4.3   4.46  \n",
              "1    NaN    NaN    NaN  \n",
              "2    NaN    NaN    NaN  "
            ]
          },
          "execution_count": 29,
          "metadata": {},
          "output_type": "execute_result"
        }
      ],
      "source": [
        "rename_col = {\n",
        "    \"Area Code (M49)\": \"region_code\",\n",
        "    \"Area\": \"region\",\n",
        "    \"Item\": \"item\",\n",
        "    \"Element\": \"element\",\n",
        "    \"Unit\": \"unit\"\n",
        "}\n",
        "\n",
        "df_clean = df.rename(columns=rename_col)\n",
        "df_clean.head(3)\n",
        "\n",
        "\n"
      ]
    },
    {
      "cell_type": "code",
      "execution_count": 30,
      "metadata": {},
      "outputs": [
        {
          "name": "stdout",
          "output_type": "stream",
          "text": [
            "<class 'pandas.core.frame.DataFrame'>\n",
            "RangeIndex: 373 entries, 0 to 372\n",
            "Data columns (total 13 columns):\n",
            " #   Column       Non-Null Count  Dtype  \n",
            "---  ------       --------------  -----  \n",
            " 0   region_code  373 non-null    object \n",
            " 1   region       373 non-null    object \n",
            " 2   item         373 non-null    object \n",
            " 3   element      373 non-null    object \n",
            " 4   unit         373 non-null    object \n",
            " 5   Y2017        175 non-null    float64\n",
            " 6   Y2018        175 non-null    float64\n",
            " 7   Y2019        175 non-null    float64\n",
            " 8   Y2020        175 non-null    float64\n",
            " 9   Y2021        373 non-null    float64\n",
            " 10  Y2022        175 non-null    float64\n",
            " 11  Y2023        99 non-null     float64\n",
            " 12  Y2024        99 non-null     float64\n",
            "dtypes: float64(8), object(5)\n",
            "memory usage: 38.0+ KB\n"
          ]
        }
      ],
      "source": [
        "df_clean.info() # Get a concise summary of the cleaned DataFrame"
      ]
    },
    {
      "cell_type": "code",
      "execution_count": 31,
      "metadata": {},
      "outputs": [
        {
          "data": {
            "text/plain": [
              "region_code      0\n",
              "region           0\n",
              "item             0\n",
              "element          0\n",
              "unit             0\n",
              "Y2017          198\n",
              "Y2018          198\n",
              "Y2019          198\n",
              "Y2020          198\n",
              "Y2021            0\n",
              "Y2022          198\n",
              "Y2023          274\n",
              "Y2024          274\n",
              "dtype: int64"
            ]
          },
          "execution_count": 31,
          "metadata": {},
          "output_type": "execute_result"
        }
      ],
      "source": [
        "df_clean.isnull().sum() # Check for missing values in each column"
      ]
    },
    {
      "cell_type": "code",
      "execution_count": 32,
      "metadata": {},
      "outputs": [],
      "source": [
        "# Convert to numeric and fill NaN with 0\n",
        "year_cols = [col for col in df_clean.columns if col.startswith('Y')]\n",
        "df_clean[year_cols] = df_clean[year_cols].apply(pd.to_numeric, errors=\"coerce\").fillna(0) "
      ]
    },
    {
      "cell_type": "code",
      "execution_count": 33,
      "metadata": {},
      "outputs": [
        {
          "data": {
            "text/html": [
              "<div>\n",
              "<style scoped>\n",
              "    .dataframe tbody tr th:only-of-type {\n",
              "        vertical-align: middle;\n",
              "    }\n",
              "\n",
              "    .dataframe tbody tr th {\n",
              "        vertical-align: top;\n",
              "    }\n",
              "\n",
              "    .dataframe thead th {\n",
              "        text-align: right;\n",
              "    }\n",
              "</style>\n",
              "<table border=\"1\" class=\"dataframe\">\n",
              "  <thead>\n",
              "    <tr style=\"text-align: right;\">\n",
              "      <th></th>\n",
              "      <th>region_code</th>\n",
              "      <th>region</th>\n",
              "      <th>item</th>\n",
              "      <th>element</th>\n",
              "      <th>unit</th>\n",
              "      <th>year</th>\n",
              "      <th>amount</th>\n",
              "    </tr>\n",
              "  </thead>\n",
              "  <tbody>\n",
              "    <tr>\n",
              "      <th>0</th>\n",
              "      <td>001</td>\n",
              "      <td>World</td>\n",
              "      <td>Cost of a healthy diet (CoHD), PPP dollar per ...</td>\n",
              "      <td>Value</td>\n",
              "      <td>Int$ (PPP) per person per day</td>\n",
              "      <td>Y2017</td>\n",
              "      <td>3.14</td>\n",
              "    </tr>\n",
              "    <tr>\n",
              "      <th>1</th>\n",
              "      <td>001</td>\n",
              "      <td>World</td>\n",
              "      <td>Cost of starchy staples, PPP dollar per person...</td>\n",
              "      <td>Value</td>\n",
              "      <td>Int$ (PPP) per person per day</td>\n",
              "      <td>Y2017</td>\n",
              "      <td>0.00</td>\n",
              "    </tr>\n",
              "    <tr>\n",
              "      <th>2</th>\n",
              "      <td>001</td>\n",
              "      <td>World</td>\n",
              "      <td>Cost of animal source foods, PPP dollar per pe...</td>\n",
              "      <td>Value</td>\n",
              "      <td>Int$ (PPP) per person per day</td>\n",
              "      <td>Y2017</td>\n",
              "      <td>0.00</td>\n",
              "    </tr>\n",
              "  </tbody>\n",
              "</table>\n",
              "</div>"
            ],
            "text/plain": [
              "  region_code region                                               item  \\\n",
              "0         001  World  Cost of a healthy diet (CoHD), PPP dollar per ...   \n",
              "1         001  World  Cost of starchy staples, PPP dollar per person...   \n",
              "2         001  World  Cost of animal source foods, PPP dollar per pe...   \n",
              "\n",
              "  element                           unit   year  amount  \n",
              "0   Value  Int$ (PPP) per person per day  Y2017    3.14  \n",
              "1   Value  Int$ (PPP) per person per day  Y2017    0.00  \n",
              "2   Value  Int$ (PPP) per person per day  Y2017    0.00  "
            ]
          },
          "execution_count": 33,
          "metadata": {},
          "output_type": "execute_result"
        }
      ],
      "source": [
        "# Convert to long format\n",
        "df_clean = df_clean.melt(id_vars=['region_code', 'region', 'item', 'element', 'unit'], \n",
        "                         var_name='year', value_name='amount')\n",
        "df_clean.head(3)"
      ]
    },
    {
      "cell_type": "code",
      "execution_count": 34,
      "metadata": {},
      "outputs": [
        {
          "name": "stdout",
          "output_type": "stream",
          "text": [
            "['region_code', 'region', 'item', 'element', 'unit', 'year', 'amount']\n"
          ]
        }
      ],
      "source": [
        "print(df_clean.columns.tolist())"
      ]
    },
    {
      "cell_type": "code",
      "execution_count": 36,
      "metadata": {},
      "outputs": [
        {
          "name": "stdout",
          "output_type": "stream",
          "text": [
            "Cleaned DataFrame saved to 'dataset/cleaned/CoAHD_cleaned.csv'\n"
          ]
        }
      ],
      "source": [
        "# Save the cleaned DataFrame to a new CSV file\n",
        "df_clean.to_csv('dataset/processed/CoAHD_cleaned.csv', index=False)\n",
        "print(\"Cleaned DataFrame saved to 'dataset/cleaned/CoAHD_cleaned.csv'\")"
      ]
    },
    {
      "cell_type": "markdown",
      "metadata": {},
      "source": [
        "---"
      ]
    },
    {
      "cell_type": "markdown",
      "metadata": {},
      "source": [
        "NOTE"
      ]
    },
    {
      "cell_type": "markdown",
      "metadata": {},
      "source": [
        "* You may add as many sections as you want, as long as it supports your project workflow.\n",
        "* All notebook's cells should be run top-down (you can't create a dynamic wherein a given point you need to go back to a previous cell to execute some task, like go back to a previous cell and refresh a variable content)"
      ]
    },
    {
      "cell_type": "markdown",
      "metadata": {},
      "source": [
        "---"
      ]
    },
    {
      "cell_type": "markdown",
      "metadata": {
        "id": "ltNetd085qHf"
      },
      "source": [
        "# Push files to Repo"
      ]
    },
    {
      "cell_type": "markdown",
      "metadata": {},
      "source": [
        "* In cases where you don't need to push files to Repo, you may replace this section with \"Conclusions and Next Steps\" and state your conclusions and next steps."
      ]
    },
    {
      "cell_type": "code",
      "execution_count": 18,
      "metadata": {
        "id": "aKlnIozA4eQO",
        "outputId": "fd09bc1f-adb1-4511-f6ce-492a6af570c0"
      },
      "outputs": [],
      "source": [
        "# import os\n",
        "# try:\n",
        "#   # create your folder here\n",
        "#   # os.makedirs(name='')\n",
        "# except Exception as e:\n",
        "#   print(e)\n"
      ]
    }
  ],
  "metadata": {
    "accelerator": "GPU",
    "colab": {
      "name": "Data Practitioner Jupyter Notebook.ipynb",
      "provenance": [],
      "toc_visible": true
    },
    "kernelspec": {
      "display_name": ".venv",
      "language": "python",
      "name": "python3"
    },
    "language_info": {
      "codemirror_mode": {
        "name": "ipython",
        "version": 3
      },
      "file_extension": ".py",
      "mimetype": "text/x-python",
      "name": "python",
      "nbconvert_exporter": "python",
      "pygments_lexer": "ipython3",
      "version": "3.12.8"
    },
    "orig_nbformat": 2
  },
  "nbformat": 4,
  "nbformat_minor": 2
}
